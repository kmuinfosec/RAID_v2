{
 "cells": [
  {
   "cell_type": "code",
   "execution_count": 16,
   "metadata": {},
   "outputs": [],
   "source": [
    "import pickle\n",
    "import csv\n",
    "import os"
   ]
  },
  {
   "cell_type": "code",
   "execution_count": 10,
   "metadata": {},
   "outputs": [],
   "source": [
    "with open(os.path.join(r\"C:\\Users\\user\\장우혁\\RAID_IoT-DDoS\\fix\\result\\59655\\dip_dport10.0.67.176_31364\", \"result.pkl\"), 'rb') as cf:\n",
    "    t = pickle.load(cf)"
   ]
  },
  {
   "cell_type": "code",
   "execution_count": 21,
   "metadata": {},
   "outputs": [
    {
     "data": {
      "text/plain": [
       "dict_keys(['common string', 'decoded AE', 'decoded payload'])"
      ]
     },
     "execution_count": 21,
     "metadata": {},
     "output_type": "execute_result"
    }
   ],
   "source": [
    "t[-1].keys()"
   ]
  },
  {
   "cell_type": "code",
   "execution_count": 31,
   "metadata": {},
   "outputs": [
    {
     "data": {
      "text/plain": [
       "['common string', 'decoded AE', 'decoded payload']"
      ]
     },
     "execution_count": 31,
     "metadata": {},
     "output_type": "execute_result"
    }
   ],
   "source": [
    "list(t[list(t.keys())[0]].keys())"
   ]
  },
  {
   "cell_type": "code",
   "execution_count": 39,
   "metadata": {},
   "outputs": [
    {
     "ename": "TypeError",
     "evalue": "writer.writerow() takes no keyword arguments",
     "output_type": "error",
     "traceback": [
      "\u001b[1;31m---------------------------------------------------------------------------\u001b[0m",
      "\u001b[1;31mTypeError\u001b[0m                                 Traceback (most recent call last)",
      "\u001b[1;32mc:\\Users\\user\\장우혁\\RAID_IoT-DDoS\\fix\\test.ipynb Cell 5'\u001b[0m in \u001b[0;36m<cell line: 1>\u001b[1;34m()\u001b[0m\n\u001b[0;32m      <a href='vscode-notebook-cell:/c%3A/Users/user/%EC%9E%A5%EC%9A%B0%ED%98%81/RAID_IoT-DDoS/fix/test.ipynb#ch0000001?line=3'>4</a>\u001b[0m writer \u001b[39m=\u001b[39m csv\u001b[39m.\u001b[39mwriter(cf)\n\u001b[0;32m      <a href='vscode-notebook-cell:/c%3A/Users/user/%EC%9E%A5%EC%9A%B0%ED%98%81/RAID_IoT-DDoS/fix/test.ipynb#ch0000001?line=4'>5</a>\u001b[0m \u001b[39mfor\u001b[39;00m i \u001b[39min\u001b[39;00m \u001b[39mrange\u001b[39m(\u001b[39mlen\u001b[39m(c_dict[\u001b[39m'\u001b[39m\u001b[39mdecoded AE\u001b[39m\u001b[39m'\u001b[39m])):\n\u001b[1;32m----> <a href='vscode-notebook-cell:/c%3A/Users/user/%EC%9E%A5%EC%9A%B0%ED%98%81/RAID_IoT-DDoS/fix/test.ipynb#ch0000001?line=5'>6</a>\u001b[0m     writer\u001b[39m.\u001b[39;49mwriterow([\u001b[39mlist\u001b[39;49m[c_dict[\u001b[39m'\u001b[39;49m\u001b[39mcommon string\u001b[39;49m\u001b[39m'\u001b[39;49m]], c_dict[\u001b[39m'\u001b[39;49m\u001b[39mdecoded AE\u001b[39;49m\u001b[39m'\u001b[39;49m][i], c_dict[\u001b[39m'\u001b[39;49m\u001b[39mdecoded payload\u001b[39;49m\u001b[39m'\u001b[39;49m][i]], newline\u001b[39m=\u001b[39;49m\u001b[39m'\u001b[39;49m\u001b[39m'\u001b[39;49m)\n",
      "\u001b[1;31mTypeError\u001b[0m: writer.writerow() takes no keyword arguments"
     ]
    }
   ],
   "source": [
    "for ci in list(t.keys()):\n",
    "    c_dict = t[ci]\n",
    "    with open(os.path.join(\"./\", f\"{ci}_result.csv\"), 'w', newline=\"\") as cf:\n",
    "        writer = csv.writer(cf)\n",
    "        for i in range(len(c_dict['decoded AE'])):\n",
    "            writer.writerow([list[c_dict['common string']], c_dict['decoded AE'][i], c_dict['decoded payload'][i]])"
   ]
  },
  {
   "cell_type": "code",
   "execution_count": 34,
   "metadata": {},
   "outputs": [
    {
     "data": {
      "text/plain": [
       "{'common string': set(),\n",
       " 'decoded AE': [['t2IM',\n",
       "   'f2bfXdaO',\n",
       "   '>c3Ief0a15]7Zbfecec978d9c',\n",
       "   ':sb1#d$',\n",
       "   '4e5689101cesoQab',\n",
       "   'f1G/d4c2_49b',\n",
       "   '84Hd8-d9vd2519',\n",
       "   '0cfeba607s',\n",
       "   'e7BAe8017fd9bebb}a8',\n",
       "   'sku08',\n",
       "   'afa6T88d818c2ce191ce5bdceA*',\n",
       "   '4(19%',\n",
       "   'e1s0df8c',\n",
       "   'e6|caavcae5FMcb',\n",
       "   'affee6``01',\n",
       "   'bfYb6d11ab2b8',\n",
       "   '88 a8W',\n",
       "   'Ra8cf!%%',\n",
       "   '/93c310i94',\n",
       "   'ceadf2ebEA&',\n",
       "   'dev8dd5q',\n",
       "   'fdQ~e28a0d0aS',\n",
       "   'Wbf81ca1d0g',\n",
       "   'C5a09e7f7efe2d9',\n",
       "   '980ce5eb0718bb',\n",
       "   'b0/b1ddh1b97',\n",
       "   'd4b9Nc9Z',\n",
       "   '2Q14w'],\n",
       "  ['\"d2e8@0a6',\n",
       "   \"C'1cf3e3u8c9e\",\n",
       "   '6fb\"7ff0>8aa0d3ecK]a4',\n",
       "   'f0i$+',\n",
       "   ']hf6Jl1',\n",
       "   'B0c8b)d8b3If5aaa9e810',\n",
       "   'dd8798_k',\n",
       "   'd5e1fbc4Un',\n",
       "   '<01v8eccacG1ff088cddar',\n",
       "   'ecb]N980dec9bnff;04d497lp8b',\n",
       "   \"(ac+c@d87f'b9G\",\n",
       "   'uo8aG186E?1b(',\n",
       "   '93c3a09d88&',\n",
       "   'Z*d5ZZ{e2 sX',\n",
       "   '92ae04N0a',\n",
       "   'K0af60cA|jd02W',\n",
       "   'M1f81ad03f30bb2d3b110a',\n",
       "   'a0beb3/8d9f',\n",
       "   '9e3bcU8f92',\n",
       "   'a588af<f9aeb28e[',\n",
       "   'Ua89eg9814',\n",
       "   \"1c1f95'}e2#Ca180f2~~b5\"]],\n",
       " 'decoded payload': ['t2IMf2bfXdaO>c3Ief0a15]7Zbfecec978d9c:sb1#d$4e5689101cesoQabf1G/d4c2_49b84Hd8-d9vd25190cfeba607se7BAe8017fd9bebb}a8sku08afa6T88d818c2ce191ce5bdceA*4(19%e1s0df8ce6|caavcae5FMcbaffee6``01bfYb6d11ab2b888 a8WRa8cf!%%/93c310i94ceadf2ebEA&dev8dd5qfdQ~e28a0d0aSWbf81ca1d0gC5a09e7f7efe2d9980ce5eb0718bbb0/b1ddh1b97d4b9Nc9Z2Q14w',\n",
       "  '\"d2e8@0a6C\\'1cf3e3u8c9e6fb\"7ff0>8aa0d3ecK]a4f0i$+]hf6Jl1B0c8b)d8b3If5aaa9e810dd8798_kd5e1fbc4Un<01v8eccacG1ff088cddarecb]N980dec9bnff;04d497lp8b(ac+c@d87f\\'b9Guo8aG186E?1b(93c3a09d88&Z*d5ZZ{e2 sX92ae04N0aK0af60cA|jd02WM1f81ad03f30bb2d3b110aa0beb3/8d9f9e3bcU8f92a588af<f9aeb28e[Ua89eg98141c1f95\\'}e2#Ca180f2~~b5']}"
      ]
     },
     "execution_count": 34,
     "metadata": {},
     "output_type": "execute_result"
    }
   ],
   "source": [
    "c_dict"
   ]
  },
  {
   "cell_type": "code",
   "execution_count": null,
   "metadata": {},
   "outputs": [],
   "source": []
  }
 ],
 "metadata": {
  "language_info": {
   "name": "python"
  },
  "orig_nbformat": 4
 },
 "nbformat": 4,
 "nbformat_minor": 2
}
